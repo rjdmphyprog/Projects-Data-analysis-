{
 "cells": [
  {
   "cell_type": "markdown",
   "metadata": {},
   "source": [
    "# Investing Program Type Prediction\n",
    "This dataset was found in https://www.kaggle.com/snassimr/data-for-investing-type-prediction\n",
    "## Description\n",
    "### Context\n",
    "\n",
    "Data was created as a part of real-world Data Science Project in effort to predict what investment program to offer to investment bank customer . The bank found very useful to predict the investing program type beforehand and not to try and offer both products to specific customer. The project was held about 12 year ago and most of modern techniques and algorithms weren't available.\n",
    "### Content\n",
    "\n",
    "Data contains of one dataset and provided in csv format. In order to anonymize data we provided the description for group of columns and specific columns that their meaning can be guessed easily.\n",
    "Input features group description :\n",
    "\n",
    "    SE1 (Age) , SE2 (Geographic location) - Customer data\n",
    "    BA1 – BA7 – Banking activity , money equivalent for general activities on customer’s bank account in last year , i.e. sum of payments for loan return\n",
    "    PE1 – PE15 – Investing history , flag if customer had one of 15 popular investment products/programs in last year\n",
    "    IA1 – IA3 – Investing activity , counts for different types of operations on investment accounts in last year\n",
    "\n",
    "You can find more information regarding specific columns in \"Columns\" section : feature presentation , missing data , etc .\n",
    "### Inspiration\n",
    "\n",
    "In the past , 12 years years ago , we didn't achieve good enough model and had to redefine the problem that was successfully solved. Nowadays , the required performance likely be achieved with current state-of-art techniques and algorithms.\n",
    "\n",
    "Some basic sklearn.ensemble.RandomForestClassifier achieve about 8% improvement comparing to our before 12 years model for selected performance metric and 3 fold CV . But , this improvement still wouldn't have been enough.\n",
    "\n",
    "Try to improve further and see if current feature engineering , modeling or AutoML tools can drive the performance over 90%.\n",
    "\n",
    "Thanks and Good luck !!!"
   ]
  },
  {
   "cell_type": "markdown",
   "metadata": {},
   "source": [
    "## Preprocessing\n",
    "### Import libraries and dataset"
   ]
  },
  {
   "cell_type": "code",
   "execution_count": 1,
   "metadata": {},
   "outputs": [],
   "source": [
    "import numpy as np\n",
    "import pandas as pd\n",
    "import seaborn as sns\n",
    "import matplotlib.pyplot as plt"
   ]
  },
  {
   "cell_type": "code",
   "execution_count": 2,
   "metadata": {},
   "outputs": [],
   "source": [
    "sns.set(rc={'figure.figsize':(25,6)}) #Changing figure size from seaborn graphics"
   ]
  },
  {
   "cell_type": "code",
   "execution_count": 3,
   "metadata": {},
   "outputs": [
    {
     "data": {
      "text/html": [
       "<div>\n",
       "<style scoped>\n",
       "    .dataframe tbody tr th:only-of-type {\n",
       "        vertical-align: middle;\n",
       "    }\n",
       "\n",
       "    .dataframe tbody tr th {\n",
       "        vertical-align: top;\n",
       "    }\n",
       "\n",
       "    .dataframe thead th {\n",
       "        text-align: right;\n",
       "    }\n",
       "</style>\n",
       "<table border=\"1\" class=\"dataframe\">\n",
       "  <thead>\n",
       "    <tr style=\"text-align: right;\">\n",
       "      <th></th>\n",
       "      <th>SE1</th>\n",
       "      <th>SE2</th>\n",
       "      <th>BA1</th>\n",
       "      <th>BA2</th>\n",
       "      <th>BA3</th>\n",
       "      <th>BA4</th>\n",
       "      <th>BA5</th>\n",
       "      <th>BA6</th>\n",
       "      <th>BA7</th>\n",
       "      <th>PE1</th>\n",
       "      <th>...</th>\n",
       "      <th>PE10</th>\n",
       "      <th>PE11</th>\n",
       "      <th>PE12</th>\n",
       "      <th>PE13</th>\n",
       "      <th>PE14</th>\n",
       "      <th>PE15</th>\n",
       "      <th>IA1</th>\n",
       "      <th>IA2</th>\n",
       "      <th>IA3</th>\n",
       "      <th>InvType</th>\n",
       "    </tr>\n",
       "  </thead>\n",
       "  <tbody>\n",
       "    <tr>\n",
       "      <th>0</th>\n",
       "      <td>45</td>\n",
       "      <td>G29</td>\n",
       "      <td>12</td>\n",
       "      <td>0.0</td>\n",
       "      <td>5934</td>\n",
       "      <td>0</td>\n",
       "      <td>0</td>\n",
       "      <td>0</td>\n",
       "      <td>0</td>\n",
       "      <td>I0</td>\n",
       "      <td>...</td>\n",
       "      <td>I0</td>\n",
       "      <td>I0</td>\n",
       "      <td>I0</td>\n",
       "      <td>I0</td>\n",
       "      <td>I0</td>\n",
       "      <td>I0</td>\n",
       "      <td>0</td>\n",
       "      <td>0</td>\n",
       "      <td>1</td>\n",
       "      <td>C1</td>\n",
       "    </tr>\n",
       "    <tr>\n",
       "      <th>1</th>\n",
       "      <td>41</td>\n",
       "      <td>G0</td>\n",
       "      <td>0</td>\n",
       "      <td>0.0</td>\n",
       "      <td>21514</td>\n",
       "      <td>316374</td>\n",
       "      <td>5142</td>\n",
       "      <td>0</td>\n",
       "      <td>5141</td>\n",
       "      <td>I0</td>\n",
       "      <td>...</td>\n",
       "      <td>I0</td>\n",
       "      <td>I0</td>\n",
       "      <td>I1</td>\n",
       "      <td>I1</td>\n",
       "      <td>I1</td>\n",
       "      <td>I0</td>\n",
       "      <td>0</td>\n",
       "      <td>0</td>\n",
       "      <td>1</td>\n",
       "      <td>C1</td>\n",
       "    </tr>\n",
       "    <tr>\n",
       "      <th>2</th>\n",
       "      <td>43</td>\n",
       "      <td>G0</td>\n",
       "      <td>1</td>\n",
       "      <td>0.0</td>\n",
       "      <td>14324</td>\n",
       "      <td>22344</td>\n",
       "      <td>22344</td>\n",
       "      <td>0</td>\n",
       "      <td>22344</td>\n",
       "      <td>I0</td>\n",
       "      <td>...</td>\n",
       "      <td>I0</td>\n",
       "      <td>I0</td>\n",
       "      <td>I0</td>\n",
       "      <td>I0</td>\n",
       "      <td>I0</td>\n",
       "      <td>I0</td>\n",
       "      <td>0</td>\n",
       "      <td>0</td>\n",
       "      <td>0</td>\n",
       "      <td>C1</td>\n",
       "    </tr>\n",
       "    <tr>\n",
       "      <th>3</th>\n",
       "      <td>36</td>\n",
       "      <td>G52</td>\n",
       "      <td>16</td>\n",
       "      <td>0.0</td>\n",
       "      <td>41114</td>\n",
       "      <td>2406838</td>\n",
       "      <td>1156219</td>\n",
       "      <td>692875</td>\n",
       "      <td>41425</td>\n",
       "      <td>I0</td>\n",
       "      <td>...</td>\n",
       "      <td>I1</td>\n",
       "      <td>I1</td>\n",
       "      <td>I1</td>\n",
       "      <td>I1</td>\n",
       "      <td>I0</td>\n",
       "      <td>I0</td>\n",
       "      <td>0</td>\n",
       "      <td>0</td>\n",
       "      <td>0</td>\n",
       "      <td>C1</td>\n",
       "    </tr>\n",
       "    <tr>\n",
       "      <th>4</th>\n",
       "      <td>2</td>\n",
       "      <td>G10</td>\n",
       "      <td>0</td>\n",
       "      <td>0.0</td>\n",
       "      <td>2394</td>\n",
       "      <td>621</td>\n",
       "      <td>621</td>\n",
       "      <td>0</td>\n",
       "      <td>621</td>\n",
       "      <td>I0</td>\n",
       "      <td>...</td>\n",
       "      <td>I0</td>\n",
       "      <td>I0</td>\n",
       "      <td>I0</td>\n",
       "      <td>I0</td>\n",
       "      <td>I0</td>\n",
       "      <td>I0</td>\n",
       "      <td>0</td>\n",
       "      <td>0</td>\n",
       "      <td>0</td>\n",
       "      <td>C1</td>\n",
       "    </tr>\n",
       "  </tbody>\n",
       "</table>\n",
       "<p>5 rows × 28 columns</p>\n",
       "</div>"
      ],
      "text/plain": [
       "   SE1  SE2  BA1  BA2    BA3      BA4      BA5     BA6    BA7 PE1  ... PE10  \\\n",
       "0   45  G29   12  0.0   5934        0        0       0      0  I0  ...   I0   \n",
       "1   41   G0    0  0.0  21514   316374     5142       0   5141  I0  ...   I0   \n",
       "2   43   G0    1  0.0  14324    22344    22344       0  22344  I0  ...   I0   \n",
       "3   36  G52   16  0.0  41114  2406838  1156219  692875  41425  I0  ...   I1   \n",
       "4    2  G10    0  0.0   2394      621      621       0    621  I0  ...   I0   \n",
       "\n",
       "  PE11 PE12 PE13 PE14 PE15 IA1 IA2 IA3 InvType  \n",
       "0   I0   I0   I0   I0   I0   0   0   1      C1  \n",
       "1   I0   I1   I1   I1   I0   0   0   1      C1  \n",
       "2   I0   I0   I0   I0   I0   0   0   0      C1  \n",
       "3   I1   I1   I1   I0   I0   0   0   0      C1  \n",
       "4   I0   I0   I0   I0   I0   0   0   0      C1  \n",
       "\n",
       "[5 rows x 28 columns]"
      ]
     },
     "execution_count": 3,
     "metadata": {},
     "output_type": "execute_result"
    }
   ],
   "source": [
    "df = pd.read_csv(\"investing_program_prediction_data.csv\", header = 0)\n",
    "df.head()"
   ]
  },
  {
   "cell_type": "code",
   "execution_count": 4,
   "metadata": {},
   "outputs": [
    {
     "name": "stdout",
     "output_type": "stream",
     "text": [
      "<class 'pandas.core.frame.DataFrame'>\n",
      "RangeIndex: 4734 entries, 0 to 4733\n",
      "Data columns (total 28 columns):\n",
      " #   Column   Non-Null Count  Dtype  \n",
      "---  ------   --------------  -----  \n",
      " 0   SE1      4734 non-null   int64  \n",
      " 1   SE2      4734 non-null   object \n",
      " 2   BA1      4734 non-null   int64  \n",
      " 3   BA2      4734 non-null   float64\n",
      " 4   BA3      4734 non-null   int64  \n",
      " 5   BA4      4734 non-null   int64  \n",
      " 6   BA5      4734 non-null   int64  \n",
      " 7   BA6      4734 non-null   int64  \n",
      " 8   BA7      4734 non-null   int64  \n",
      " 9   PE1      4734 non-null   object \n",
      " 10  PE2      4734 non-null   object \n",
      " 11  PE3      4734 non-null   object \n",
      " 12  PE4      4734 non-null   object \n",
      " 13  PE5      4734 non-null   object \n",
      " 14  PE6      4734 non-null   object \n",
      " 15  PE7      4734 non-null   object \n",
      " 16  PE8      4734 non-null   object \n",
      " 17  PE9      4734 non-null   object \n",
      " 18  PE10     4734 non-null   object \n",
      " 19  PE11     4734 non-null   object \n",
      " 20  PE12     4734 non-null   object \n",
      " 21  PE13     4734 non-null   object \n",
      " 22  PE14     4734 non-null   object \n",
      " 23  PE15     4734 non-null   object \n",
      " 24  IA1      4734 non-null   int64  \n",
      " 25  IA2      4734 non-null   int64  \n",
      " 26  IA3      4734 non-null   int64  \n",
      " 27  InvType  4734 non-null   object \n",
      "dtypes: float64(1), int64(10), object(17)\n",
      "memory usage: 1.0+ MB\n"
     ]
    }
   ],
   "source": [
    "df.info()"
   ]
  },
  {
   "cell_type": "markdown",
   "metadata": {},
   "source": [
    "The first thing that I can see through data, there are no missing values, so, I will explore data using graphics to understand data type in each column."
   ]
  },
  {
   "cell_type": "markdown",
   "metadata": {},
   "source": [
    "### Exploring data\n",
    "### Categorical variables"
   ]
  },
  {
   "cell_type": "code",
   "execution_count": 5,
   "metadata": {},
   "outputs": [
    {
     "data": {
      "image/png": "[encoded data removed]",
      "text/plain": [
       "<Figure size 1800x432 with 1 Axes>"
      ]
     },
     "metadata": {},
     "output_type": "display_data"
    },
    {
     "data": {
      "image/png": "[encoded data removed]",
      "text/plain": [
       "<Figure size 1800x432 with 1 Axes>"
      ]
     },
     "metadata": {},
     "output_type": "display_data"
    },
    {
     "data": {
      "image/png": "[encoded data removed]",
      "text/plain": [
       "<Figure size 1800x432 with 1 Axes>"
      ]
     },
     "metadata": {},
     "output_type": "display_data"
    },
    {
     "data": {
      "image/png": "[encoded data removed]",
      "text/plain": [
       "<Figure size 1800x432 with 1 Axes>"
      ]
     },
     "metadata": {},
     "output_type": "display_data"
    },
    {
     "data": {
      "image/png": "[encoded data removed]",
      "text/plain": [
       "<Figure size 1800x432 with 1 Axes>"
      ]
     },
     "metadata": {},
     "output_type": "display_data"
    },
    {
     "data": {
      "image/png": "[encoded data removed]",
      "text/plain": [
       "<Figure size 1800x432 with 1 Axes>"
      ]
     },
     "metadata": {},
     "output_type": "display_data"
    },
    {
     "data": {
      "image/png": "[encoded data removed]",
      "text/plain": [
       "<Figure size 1800x432 with 1 Axes>"
      ]
     },
     "metadata": {},
     "output_type": "display_data"
    },
    {
     "data": {
      "image/png": "[encoded data removed]",
      "text/plain": [
       "<Figure size 1800x432 with 1 Axes>"
      ]
     },
     "metadata": {},
     "output_type": "display_data"
    },
    {
     "data": {
      "image/png": "[encoded data removed]",
      "text/plain": [
       "<Figure size 1800x432 with 1 Axes>"
      ]
     },
     "metadata": {},
     "output_type": "display_data"
    },
    {
     "data": {
      "image/png": "[encoded data removed]",
      "text/plain": [
       "<Figure size 1800x432 with 1 Axes>"
      ]
     },
     "metadata": {},
     "output_type": "display_data"
    },
    {
     "data": {
      "image/png": "[encoded data removed]",
      "text/plain": [
       "<Figure size 1800x432 with 1 Axes>"
      ]
     },
     "metadata": {},
     "output_type": "display_data"
    },
    {
     "data": {
      "image/png": "[encoded data removed]",
      "text/plain": [
       "<Figure size 1800x432 with 1 Axes>"
      ]
     },
     "metadata": {},
     "output_type": "display_data"
    },
    {
     "data": {
      "image/png": "[encoded data removed]",
      "text/plain": [
       "<Figure size 1800x432 with 1 Axes>"
      ]
     },
     "metadata": {},
     "output_type": "display_data"
    },
    {
     "data": {
      "image/png": "[encoded data removed]",
      "text/plain": [
       "<Figure size 1800x432 with 1 Axes>"
      ]
     },
     "metadata": {},
     "output_type": "display_data"
    },
    {
     "data": {
      "image/png": "[encoded data removed]",
      "text/plain": [
       "<Figure size 1800x432 with 1 Axes>"
      ]
     },
     "metadata": {},
     "output_type": "display_data"
    },
    {
     "data": {
      "image/png": "[encoded data removed]",
      "text/plain": [
       "<Figure size 1800x432 with 1 Axes>"
      ]
     },
     "metadata": {},
     "output_type": "display_data"
    },
    {
     "data": {
      "image/png": "[encoded data removed]",
      "text/plain": [
       "<Figure size 1800x432 with 1 Axes>"
      ]
     },
     "metadata": {},
     "output_type": "display_data"
    }
   ],
   "source": [
    "for column in df.columns:\n",
    "    if df[column].dtype == np.dtype(\"O\"):\n",
    "        sns.countplot(x = column, data = df)\n",
    "        plt.show()"
   ]
  },
  {
   "cell_type": "markdown",
   "metadata": {},
   "source": [
    "I can see that I can Translate these categorical variables to numerical variables."
   ]
  },
  {
   "cell_type": "code",
   "execution_count": 6,
   "metadata": {},
   "outputs": [],
   "source": [
    "for column in df.columns:\n",
    "    if df[column].dtype == np.dtype(\"O\"):\n",
    "        df[column] = df[column].str.extract(\"(\\d+)\").astype(\"int64\")"
   ]
  },
  {
   "cell_type": "code",
   "execution_count": 7,
   "metadata": {},
   "outputs": [
    {
     "name": "stdout",
     "output_type": "stream",
     "text": [
      "<class 'pandas.core.frame.DataFrame'>\n",
      "RangeIndex: 4734 entries, 0 to 4733\n",
      "Data columns (total 28 columns):\n",
      " #   Column   Non-Null Count  Dtype  \n",
      "---  ------   --------------  -----  \n",
      " 0   SE1      4734 non-null   int64  \n",
      " 1   SE2      4734 non-null   int64  \n",
      " 2   BA1      4734 non-null   int64  \n",
      " 3   BA2      4734 non-null   float64\n",
      " 4   BA3      4734 non-null   int64  \n",
      " 5   BA4      4734 non-null   int64  \n",
      " 6   BA5      4734 non-null   int64  \n",
      " 7   BA6      4734 non-null   int64  \n",
      " 8   BA7      4734 non-null   int64  \n",
      " 9   PE1      4734 non-null   int64  \n",
      " 10  PE2      4734 non-null   int64  \n",
      " 11  PE3      4734 non-null   int64  \n",
      " 12  PE4      4734 non-null   int64  \n",
      " 13  PE5      4734 non-null   int64  \n",
      " 14  PE6      4734 non-null   int64  \n",
      " 15  PE7      4734 non-null   int64  \n",
      " 16  PE8      4734 non-null   int64  \n",
      " 17  PE9      4734 non-null   int64  \n",
      " 18  PE10     4734 non-null   int64  \n",
      " 19  PE11     4734 non-null   int64  \n",
      " 20  PE12     4734 non-null   int64  \n",
      " 21  PE13     4734 non-null   int64  \n",
      " 22  PE14     4734 non-null   int64  \n",
      " 23  PE15     4734 non-null   int64  \n",
      " 24  IA1      4734 non-null   int64  \n",
      " 25  IA2      4734 non-null   int64  \n",
      " 26  IA3      4734 non-null   int64  \n",
      " 27  InvType  4734 non-null   int64  \n",
      "dtypes: float64(1), int64(27)\n",
      "memory usage: 1.0 MB\n"
     ]
    }
   ],
   "source": [
    "df.info()"
   ]
  },
  {
   "cell_type": "markdown",
   "metadata": {},
   "source": [
    "Translating those object values to numerical values is completed."
   ]
  },
  {
   "cell_type": "markdown",
   "metadata": {},
   "source": [
    "### Numerical variables"
   ]
  },
  {
   "cell_type": "code",
   "execution_count": 8,
   "metadata": {},
   "outputs": [
    {
     "data": {
      "text/html": [
       "<div>\n",
       "<style scoped>\n",
       "    .dataframe tbody tr th:only-of-type {\n",
       "        vertical-align: middle;\n",
       "    }\n",
       "\n",
       "    .dataframe tbody tr th {\n",
       "        vertical-align: top;\n",
       "    }\n",
       "\n",
       "    .dataframe thead th {\n",
       "        text-align: right;\n",
       "    }\n",
       "</style>\n",
       "<table border=\"1\" class=\"dataframe\">\n",
       "  <thead>\n",
       "    <tr style=\"text-align: right;\">\n",
       "      <th></th>\n",
       "      <th>SE1</th>\n",
       "      <th>SE2</th>\n",
       "      <th>BA1</th>\n",
       "      <th>BA2</th>\n",
       "      <th>BA3</th>\n",
       "      <th>BA4</th>\n",
       "      <th>BA5</th>\n",
       "      <th>BA6</th>\n",
       "      <th>BA7</th>\n",
       "      <th>PE1</th>\n",
       "      <th>...</th>\n",
       "      <th>PE10</th>\n",
       "      <th>PE11</th>\n",
       "      <th>PE12</th>\n",
       "      <th>PE13</th>\n",
       "      <th>PE14</th>\n",
       "      <th>PE15</th>\n",
       "      <th>IA1</th>\n",
       "      <th>IA2</th>\n",
       "      <th>IA3</th>\n",
       "      <th>InvType</th>\n",
       "    </tr>\n",
       "  </thead>\n",
       "  <tbody>\n",
       "    <tr>\n",
       "      <th>count</th>\n",
       "      <td>4734.000000</td>\n",
       "      <td>4734.000000</td>\n",
       "      <td>4734.000000</td>\n",
       "      <td>4734.000000</td>\n",
       "      <td>4.734000e+03</td>\n",
       "      <td>4.734000e+03</td>\n",
       "      <td>4.734000e+03</td>\n",
       "      <td>4.734000e+03</td>\n",
       "      <td>4.734000e+03</td>\n",
       "      <td>4734.000000</td>\n",
       "      <td>...</td>\n",
       "      <td>4734.000000</td>\n",
       "      <td>4734.000000</td>\n",
       "      <td>4734.000000</td>\n",
       "      <td>4734.000000</td>\n",
       "      <td>4734.000000</td>\n",
       "      <td>4734.000000</td>\n",
       "      <td>4734.000000</td>\n",
       "      <td>4734.000000</td>\n",
       "      <td>4734.000000</td>\n",
       "      <td>4734.000000</td>\n",
       "    </tr>\n",
       "    <tr>\n",
       "      <th>mean</th>\n",
       "      <td>43.465357</td>\n",
       "      <td>41.153147</td>\n",
       "      <td>4.853612</td>\n",
       "      <td>707.814911</td>\n",
       "      <td>8.648174e+04</td>\n",
       "      <td>5.353285e+05</td>\n",
       "      <td>2.647640e+05</td>\n",
       "      <td>1.332180e+05</td>\n",
       "      <td>9.522675e+04</td>\n",
       "      <td>0.049430</td>\n",
       "      <td>...</td>\n",
       "      <td>0.299958</td>\n",
       "      <td>0.205323</td>\n",
       "      <td>0.199409</td>\n",
       "      <td>0.266793</td>\n",
       "      <td>0.081327</td>\n",
       "      <td>0.060414</td>\n",
       "      <td>0.011618</td>\n",
       "      <td>0.000634</td>\n",
       "      <td>0.427123</td>\n",
       "      <td>0.510351</td>\n",
       "    </tr>\n",
       "    <tr>\n",
       "      <th>std</th>\n",
       "      <td>15.646703</td>\n",
       "      <td>32.326358</td>\n",
       "      <td>7.477688</td>\n",
       "      <td>9620.039964</td>\n",
       "      <td>2.100368e+05</td>\n",
       "      <td>1.167569e+06</td>\n",
       "      <td>6.642276e+05</td>\n",
       "      <td>4.816864e+05</td>\n",
       "      <td>2.308034e+05</td>\n",
       "      <td>0.216786</td>\n",
       "      <td>...</td>\n",
       "      <td>0.458288</td>\n",
       "      <td>0.403980</td>\n",
       "      <td>0.399598</td>\n",
       "      <td>0.442330</td>\n",
       "      <td>0.273365</td>\n",
       "      <td>0.238277</td>\n",
       "      <td>0.394972</td>\n",
       "      <td>0.043602</td>\n",
       "      <td>0.830991</td>\n",
       "      <td>0.499946</td>\n",
       "    </tr>\n",
       "    <tr>\n",
       "      <th>min</th>\n",
       "      <td>1.000000</td>\n",
       "      <td>0.000000</td>\n",
       "      <td>0.000000</td>\n",
       "      <td>0.000000</td>\n",
       "      <td>0.000000e+00</td>\n",
       "      <td>0.000000e+00</td>\n",
       "      <td>0.000000e+00</td>\n",
       "      <td>0.000000e+00</td>\n",
       "      <td>-2.000000e+00</td>\n",
       "      <td>0.000000</td>\n",
       "      <td>...</td>\n",
       "      <td>0.000000</td>\n",
       "      <td>0.000000</td>\n",
       "      <td>0.000000</td>\n",
       "      <td>0.000000</td>\n",
       "      <td>0.000000</td>\n",
       "      <td>0.000000</td>\n",
       "      <td>0.000000</td>\n",
       "      <td>0.000000</td>\n",
       "      <td>0.000000</td>\n",
       "      <td>0.000000</td>\n",
       "    </tr>\n",
       "    <tr>\n",
       "      <th>25%</th>\n",
       "      <td>33.000000</td>\n",
       "      <td>0.000000</td>\n",
       "      <td>0.000000</td>\n",
       "      <td>0.000000</td>\n",
       "      <td>9.237250e+03</td>\n",
       "      <td>6.550250e+03</td>\n",
       "      <td>5.589500e+03</td>\n",
       "      <td>0.000000e+00</td>\n",
       "      <td>3.668000e+03</td>\n",
       "      <td>0.000000</td>\n",
       "      <td>...</td>\n",
       "      <td>0.000000</td>\n",
       "      <td>0.000000</td>\n",
       "      <td>0.000000</td>\n",
       "      <td>0.000000</td>\n",
       "      <td>0.000000</td>\n",
       "      <td>0.000000</td>\n",
       "      <td>0.000000</td>\n",
       "      <td>0.000000</td>\n",
       "      <td>0.000000</td>\n",
       "      <td>0.000000</td>\n",
       "    </tr>\n",
       "    <tr>\n",
       "      <th>50%</th>\n",
       "      <td>43.000000</td>\n",
       "      <td>42.000000</td>\n",
       "      <td>1.000000</td>\n",
       "      <td>0.000000</td>\n",
       "      <td>2.616450e+04</td>\n",
       "      <td>7.373750e+04</td>\n",
       "      <td>5.401150e+04</td>\n",
       "      <td>0.000000e+00</td>\n",
       "      <td>2.404400e+04</td>\n",
       "      <td>0.000000</td>\n",
       "      <td>...</td>\n",
       "      <td>0.000000</td>\n",
       "      <td>0.000000</td>\n",
       "      <td>0.000000</td>\n",
       "      <td>0.000000</td>\n",
       "      <td>0.000000</td>\n",
       "      <td>0.000000</td>\n",
       "      <td>0.000000</td>\n",
       "      <td>0.000000</td>\n",
       "      <td>0.000000</td>\n",
       "      <td>1.000000</td>\n",
       "    </tr>\n",
       "    <tr>\n",
       "      <th>75%</th>\n",
       "      <td>55.000000</td>\n",
       "      <td>69.000000</td>\n",
       "      <td>7.000000</td>\n",
       "      <td>0.000000</td>\n",
       "      <td>8.255700e+04</td>\n",
       "      <td>5.576665e+05</td>\n",
       "      <td>2.771580e+05</td>\n",
       "      <td>5.119850e+04</td>\n",
       "      <td>9.624475e+04</td>\n",
       "      <td>0.000000</td>\n",
       "      <td>...</td>\n",
       "      <td>1.000000</td>\n",
       "      <td>0.000000</td>\n",
       "      <td>0.000000</td>\n",
       "      <td>1.000000</td>\n",
       "      <td>0.000000</td>\n",
       "      <td>0.000000</td>\n",
       "      <td>0.000000</td>\n",
       "      <td>0.000000</td>\n",
       "      <td>1.000000</td>\n",
       "      <td>1.000000</td>\n",
       "    </tr>\n",
       "    <tr>\n",
       "      <th>max</th>\n",
       "      <td>96.000000</td>\n",
       "      <td>99.000000</td>\n",
       "      <td>106.000000</td>\n",
       "      <td>341698.220000</td>\n",
       "      <td>4.459345e+06</td>\n",
       "      <td>3.332942e+07</td>\n",
       "      <td>2.881915e+07</td>\n",
       "      <td>1.125846e+07</td>\n",
       "      <td>4.739885e+06</td>\n",
       "      <td>1.000000</td>\n",
       "      <td>...</td>\n",
       "      <td>1.000000</td>\n",
       "      <td>1.000000</td>\n",
       "      <td>1.000000</td>\n",
       "      <td>1.000000</td>\n",
       "      <td>1.000000</td>\n",
       "      <td>1.000000</td>\n",
       "      <td>26.000000</td>\n",
       "      <td>3.000000</td>\n",
       "      <td>9.000000</td>\n",
       "      <td>1.000000</td>\n",
       "    </tr>\n",
       "  </tbody>\n",
       "</table>\n",
       "<p>8 rows × 28 columns</p>\n",
       "</div>"
      ],
      "text/plain": [
       "               SE1          SE2          BA1            BA2           BA3  \\\n",
       "count  4734.000000  4734.000000  4734.000000    4734.000000  4.734000e+03   \n",
       "mean     43.465357    41.153147     4.853612     707.814911  8.648174e+04   \n",
       "std      15.646703    32.326358     7.477688    9620.039964  2.100368e+05   \n",
       "min       1.000000     0.000000     0.000000       0.000000  0.000000e+00   \n",
       "25%      33.000000     0.000000     0.000000       0.000000  9.237250e+03   \n",
       "50%      43.000000    42.000000     1.000000       0.000000  2.616450e+04   \n",
       "75%      55.000000    69.000000     7.000000       0.000000  8.255700e+04   \n",
       "max      96.000000    99.000000   106.000000  341698.220000  4.459345e+06   \n",
       "\n",
       "                BA4           BA5           BA6           BA7          PE1  \\\n",
       "count  4.734000e+03  4.734000e+03  4.734000e+03  4.734000e+03  4734.000000   \n",
       "mean   5.353285e+05  2.647640e+05  1.332180e+05  9.522675e+04     0.049430   \n",
       "std    1.167569e+06  6.642276e+05  4.816864e+05  2.308034e+05     0.216786   \n",
       "min    0.000000e+00  0.000000e+00  0.000000e+00 -2.000000e+00     0.000000   \n",
       "25%    6.550250e+03  5.589500e+03  0.000000e+00  3.668000e+03     0.000000   \n",
       "50%    7.373750e+04  5.401150e+04  0.000000e+00  2.404400e+04     0.000000   \n",
       "75%    5.576665e+05  2.771580e+05  5.119850e+04  9.624475e+04     0.000000   \n",
       "max    3.332942e+07  2.881915e+07  1.125846e+07  4.739885e+06     1.000000   \n",
       "\n",
       "       ...         PE10         PE11         PE12         PE13         PE14  \\\n",
       "count  ...  4734.000000  4734.000000  4734.000000  4734.000000  4734.000000   \n",
       "mean   ...     0.299958     0.205323     0.199409     0.266793     0.081327   \n",
       "std    ...     0.458288     0.403980     0.399598     0.442330     0.273365   \n",
       "min    ...     0.000000     0.000000     0.000000     0.000000     0.000000   \n",
       "25%    ...     0.000000     0.000000     0.000000     0.000000     0.000000   \n",
       "50%    ...     0.000000     0.000000     0.000000     0.000000     0.000000   \n",
       "75%    ...     1.000000     0.000000     0.000000     1.000000     0.000000   \n",
       "max    ...     1.000000     1.000000     1.000000     1.000000     1.000000   \n",
       "\n",
       "              PE15          IA1          IA2          IA3      InvType  \n",
       "count  4734.000000  4734.000000  4734.000000  4734.000000  4734.000000  \n",
       "mean      0.060414     0.011618     0.000634     0.427123     0.510351  \n",
       "std       0.238277     0.394972     0.043602     0.830991     0.499946  \n",
       "min       0.000000     0.000000     0.000000     0.000000     0.000000  \n",
       "25%       0.000000     0.000000     0.000000     0.000000     0.000000  \n",
       "50%       0.000000     0.000000     0.000000     0.000000     1.000000  \n",
       "75%       0.000000     0.000000     0.000000     1.000000     1.000000  \n",
       "max       1.000000    26.000000     3.000000     9.000000     1.000000  \n",
       "\n",
       "[8 rows x 28 columns]"
      ]
     },
     "execution_count": 8,
     "metadata": {},
     "output_type": "execute_result"
    }
   ],
   "source": [
    "df.describe()"
   ]
  },
  {
   "cell_type": "markdown",
   "metadata": {},
   "source": [
    "The first thing that I am going to do with this information is reducting dimension of the variables usin sums or maximum values.\n",
    "1. BA values are money fron banking activities, I am going to create a BA variable with sum of each BA value.\n",
    "2. PE values indicate if a customer had some product, I am going to create a PE variable with the maximum value of all PE value, because in thos columns there are 0 and 1, so if there is a 0 in PE variable, that means that customer never had some product.\n",
    "1. IA values are counts for different operations , I am going to create a IA variable with sum of each IA value."
   ]
  },
  {
   "cell_type": "code",
   "execution_count": 9,
   "metadata": {},
   "outputs": [],
   "source": [
    "df[\"BA\"] = df.iloc[:, 2:9].sum(axis = 1) #Creating BA variable\n",
    "for column in df.iloc[:, 2:9].columns:\n",
    "    del df[column]                       #Deleting the used variables"
   ]
  },
  {
   "cell_type": "code",
   "execution_count": 10,
   "metadata": {},
   "outputs": [],
   "source": [
    "df[\"PE\"] = df.iloc[:, 2:17].max(axis = 1) #Creating PE variable\n",
    "for column in df.iloc[:, 2:17].columns:\n",
    "    del df[column]                        #Deleting the used variables"
   ]
  },
  {
   "cell_type": "code",
   "execution_count": 11,
   "metadata": {},
   "outputs": [],
   "source": [
    "df[\"IA\"] = df.iloc[:, 2:5].sum(axis = 1) #Creating IA variable\n",
    "for column in df.iloc[:, 2:5].columns:\n",
    "    del df[column]                       #Deleting the used variables"
   ]
  },
  {
   "cell_type": "code",
   "execution_count": 12,
   "metadata": {},
   "outputs": [],
   "source": [
    "df[\"Age\"] = df[\"SE1\"] #Changing the name of SE1 variable\n",
    "df[\"Location_number\"] = df[\"SE2\"] #Changing the name of SE2 variable\n",
    "del df[\"SE1\"]\n",
    "del df[\"SE2\"]"
   ]
  },
  {
   "cell_type": "code",
   "execution_count": 13,
   "metadata": {},
   "outputs": [
    {
     "data": {
      "text/html": [
       "<div>\n",
       "<style scoped>\n",
       "    .dataframe tbody tr th:only-of-type {\n",
       "        vertical-align: middle;\n",
       "    }\n",
       "\n",
       "    .dataframe tbody tr th {\n",
       "        vertical-align: top;\n",
       "    }\n",
       "\n",
       "    .dataframe thead th {\n",
       "        text-align: right;\n",
       "    }\n",
       "</style>\n",
       "<table border=\"1\" class=\"dataframe\">\n",
       "  <thead>\n",
       "    <tr style=\"text-align: right;\">\n",
       "      <th></th>\n",
       "      <th>InvType</th>\n",
       "      <th>BA</th>\n",
       "      <th>PE</th>\n",
       "      <th>IA</th>\n",
       "      <th>Age</th>\n",
       "      <th>Location_number</th>\n",
       "    </tr>\n",
       "  </thead>\n",
       "  <tbody>\n",
       "    <tr>\n",
       "      <th>0</th>\n",
       "      <td>1</td>\n",
       "      <td>5946.0</td>\n",
       "      <td>0</td>\n",
       "      <td>1</td>\n",
       "      <td>45</td>\n",
       "      <td>29</td>\n",
       "    </tr>\n",
       "    <tr>\n",
       "      <th>1</th>\n",
       "      <td>1</td>\n",
       "      <td>348171.0</td>\n",
       "      <td>1</td>\n",
       "      <td>1</td>\n",
       "      <td>41</td>\n",
       "      <td>0</td>\n",
       "    </tr>\n",
       "    <tr>\n",
       "      <th>2</th>\n",
       "      <td>1</td>\n",
       "      <td>81357.0</td>\n",
       "      <td>0</td>\n",
       "      <td>0</td>\n",
       "      <td>43</td>\n",
       "      <td>0</td>\n",
       "    </tr>\n",
       "    <tr>\n",
       "      <th>3</th>\n",
       "      <td>1</td>\n",
       "      <td>4338487.0</td>\n",
       "      <td>1</td>\n",
       "      <td>0</td>\n",
       "      <td>36</td>\n",
       "      <td>52</td>\n",
       "    </tr>\n",
       "    <tr>\n",
       "      <th>4</th>\n",
       "      <td>1</td>\n",
       "      <td>4257.0</td>\n",
       "      <td>0</td>\n",
       "      <td>0</td>\n",
       "      <td>2</td>\n",
       "      <td>10</td>\n",
       "    </tr>\n",
       "  </tbody>\n",
       "</table>\n",
       "</div>"
      ],
      "text/plain": [
       "   InvType         BA  PE  IA  Age  Location_number\n",
       "0        1     5946.0   0   1   45               29\n",
       "1        1   348171.0   1   1   41                0\n",
       "2        1    81357.0   0   0   43                0\n",
       "3        1  4338487.0   1   0   36               52\n",
       "4        1     4257.0   0   0    2               10"
      ]
     },
     "execution_count": 13,
     "metadata": {},
     "output_type": "execute_result"
    }
   ],
   "source": [
    "df.head()"
   ]
  },
  {
   "cell_type": "markdown",
   "metadata": {},
   "source": [
    "I can convert 28 columns into 6 columns using all available information.\n",
    "### Outliers exploration and treatment"
   ]
  },
  {
   "cell_type": "code",
   "execution_count": 14,
   "metadata": {},
   "outputs": [
    {
     "data": {
      "text/html": [
       "<div>\n",
       "<style scoped>\n",
       "    .dataframe tbody tr th:only-of-type {\n",
       "        vertical-align: middle;\n",
       "    }\n",
       "\n",
       "    .dataframe tbody tr th {\n",
       "        vertical-align: top;\n",
       "    }\n",
       "\n",
       "    .dataframe thead th {\n",
       "        text-align: right;\n",
       "    }\n",
       "</style>\n",
       "<table border=\"1\" class=\"dataframe\">\n",
       "  <thead>\n",
       "    <tr style=\"text-align: right;\">\n",
       "      <th></th>\n",
       "      <th>InvType</th>\n",
       "      <th>BA</th>\n",
       "      <th>PE</th>\n",
       "      <th>IA</th>\n",
       "      <th>Age</th>\n",
       "      <th>Location_number</th>\n",
       "    </tr>\n",
       "  </thead>\n",
       "  <tbody>\n",
       "    <tr>\n",
       "      <th>count</th>\n",
       "      <td>4734.000000</td>\n",
       "      <td>4.734000e+03</td>\n",
       "      <td>4734.000000</td>\n",
       "      <td>4734.000000</td>\n",
       "      <td>4734.000000</td>\n",
       "      <td>4734.000000</td>\n",
       "    </tr>\n",
       "    <tr>\n",
       "      <th>mean</th>\n",
       "      <td>0.510351</td>\n",
       "      <td>1.115732e+06</td>\n",
       "      <td>0.481411</td>\n",
       "      <td>0.439375</td>\n",
       "      <td>43.465357</td>\n",
       "      <td>41.153147</td>\n",
       "    </tr>\n",
       "    <tr>\n",
       "      <th>std</th>\n",
       "      <td>0.499946</td>\n",
       "      <td>2.193119e+06</td>\n",
       "      <td>0.499707</td>\n",
       "      <td>0.936625</td>\n",
       "      <td>15.646703</td>\n",
       "      <td>32.326358</td>\n",
       "    </tr>\n",
       "    <tr>\n",
       "      <th>min</th>\n",
       "      <td>0.000000</td>\n",
       "      <td>0.000000e+00</td>\n",
       "      <td>0.000000</td>\n",
       "      <td>0.000000</td>\n",
       "      <td>1.000000</td>\n",
       "      <td>0.000000</td>\n",
       "    </tr>\n",
       "    <tr>\n",
       "      <th>25%</th>\n",
       "      <td>0.000000</td>\n",
       "      <td>4.961875e+04</td>\n",
       "      <td>0.000000</td>\n",
       "      <td>0.000000</td>\n",
       "      <td>33.000000</td>\n",
       "      <td>0.000000</td>\n",
       "    </tr>\n",
       "    <tr>\n",
       "      <th>50%</th>\n",
       "      <td>1.000000</td>\n",
       "      <td>3.239905e+05</td>\n",
       "      <td>0.000000</td>\n",
       "      <td>0.000000</td>\n",
       "      <td>43.000000</td>\n",
       "      <td>42.000000</td>\n",
       "    </tr>\n",
       "    <tr>\n",
       "      <th>75%</th>\n",
       "      <td>1.000000</td>\n",
       "      <td>1.289307e+06</td>\n",
       "      <td>1.000000</td>\n",
       "      <td>1.000000</td>\n",
       "      <td>55.000000</td>\n",
       "      <td>69.000000</td>\n",
       "    </tr>\n",
       "    <tr>\n",
       "      <th>max</th>\n",
       "      <td>1.000000</td>\n",
       "      <td>6.640518e+07</td>\n",
       "      <td>1.000000</td>\n",
       "      <td>29.000000</td>\n",
       "      <td>96.000000</td>\n",
       "      <td>99.000000</td>\n",
       "    </tr>\n",
       "  </tbody>\n",
       "</table>\n",
       "</div>"
      ],
      "text/plain": [
       "           InvType            BA           PE           IA          Age  \\\n",
       "count  4734.000000  4.734000e+03  4734.000000  4734.000000  4734.000000   \n",
       "mean      0.510351  1.115732e+06     0.481411     0.439375    43.465357   \n",
       "std       0.499946  2.193119e+06     0.499707     0.936625    15.646703   \n",
       "min       0.000000  0.000000e+00     0.000000     0.000000     1.000000   \n",
       "25%       0.000000  4.961875e+04     0.000000     0.000000    33.000000   \n",
       "50%       1.000000  3.239905e+05     0.000000     0.000000    43.000000   \n",
       "75%       1.000000  1.289307e+06     1.000000     1.000000    55.000000   \n",
       "max       1.000000  6.640518e+07     1.000000    29.000000    96.000000   \n",
       "\n",
       "       Location_number  \n",
       "count      4734.000000  \n",
       "mean         41.153147  \n",
       "std          32.326358  \n",
       "min           0.000000  \n",
       "25%           0.000000  \n",
       "50%          42.000000  \n",
       "75%          69.000000  \n",
       "max          99.000000  "
      ]
     },
     "execution_count": 14,
     "metadata": {},
     "output_type": "execute_result"
    }
   ],
   "source": [
    "df.describe()"
   ]
  },
  {
   "cell_type": "code",
   "execution_count": 15,
   "metadata": {},
   "outputs": [
    {
     "data": {
      "image/png": "[encoded data removed]",
      "text/plain": [
       "<Figure size 1800x432 with 1 Axes>"
      ]
     },
     "metadata": {},
     "output_type": "display_data"
    },
    {
     "data": {
      "image/png": "[encoded data removed]",
      "text/plain": [
       "<Figure size 1800x432 with 1 Axes>"
      ]
     },
     "metadata": {},
     "output_type": "display_data"
    },
    {
     "data": {
      "image/png": "[encoded data removed]",
      "text/plain": [
       "<Figure size 1800x432 with 1 Axes>"
      ]
     },
     "metadata": {},
     "output_type": "display_data"
    },
    {
     "data": {
      "image/png": "[encoded data removed]",
      "text/plain": [
       "<Figure size 1800x432 with 1 Axes>"
      ]
     },
     "metadata": {},
     "output_type": "display_data"
    },
    {
     "data": {
      "image/png": "[encoded data removed]",
      "text/plain": [
       "<Figure size 1800x432 with 1 Axes>"
      ]
     },
     "metadata": {},
     "output_type": "display_data"
    }
   ],
   "source": [
    "for column in df.iloc[:, 1:]:\n",
    "    sns.boxplot(x = column, data = df)\n",
    "    plt.show()"
   ]
  },
  {
   "cell_type": "markdown",
   "metadata": {},
   "source": [
    "With this information, I see some variables could have problems, in particular BA"
   ]
  },
  {
   "cell_type": "code",
   "execution_count": 16,
   "metadata": {},
   "outputs": [
    {
     "name": "stderr",
     "output_type": "stream",
     "text": [
      "<ipython-input-16-f726d3d4eb31>:4: SettingWithCopyWarning: \n",
      "A value is trying to be set on a copy of a slice from a DataFrame\n",
      "\n",
      "See the caveats in the documentation: https://pandas.pydata.org/pandas-docs/stable/user_guide/indexing.html#returning-a-view-versus-a-copy\n",
      "  df[column][df[column] > sup] = sup\n",
      "<ipython-input-16-f726d3d4eb31>:5: SettingWithCopyWarning: \n",
      "A value is trying to be set on a copy of a slice from a DataFrame\n",
      "\n",
      "See the caveats in the documentation: https://pandas.pydata.org/pandas-docs/stable/user_guide/indexing.html#returning-a-view-versus-a-copy\n",
      "  df[column][df[column] < inf] = inf\n",
      "<ipython-input-16-f726d3d4eb31>:4: SettingWithCopyWarning: \n",
      "A value is trying to be set on a copy of a slice from a DataFrame\n",
      "\n",
      "See the caveats in the documentation: https://pandas.pydata.org/pandas-docs/stable/user_guide/indexing.html#returning-a-view-versus-a-copy\n",
      "  df[column][df[column] > sup] = sup\n",
      "<ipython-input-16-f726d3d4eb31>:5: SettingWithCopyWarning: \n",
      "A value is trying to be set on a copy of a slice from a DataFrame\n",
      "\n",
      "See the caveats in the documentation: https://pandas.pydata.org/pandas-docs/stable/user_guide/indexing.html#returning-a-view-versus-a-copy\n",
      "  df[column][df[column] < inf] = inf\n",
      "<ipython-input-16-f726d3d4eb31>:4: SettingWithCopyWarning: \n",
      "A value is trying to be set on a copy of a slice from a DataFrame\n",
      "\n",
      "See the caveats in the documentation: https://pandas.pydata.org/pandas-docs/stable/user_guide/indexing.html#returning-a-view-versus-a-copy\n",
      "  df[column][df[column] > sup] = sup\n",
      "<ipython-input-16-f726d3d4eb31>:4: SettingWithCopyWarning: \n",
      "A value is trying to be set on a copy of a slice from a DataFrame\n",
      "\n",
      "See the caveats in the documentation: https://pandas.pydata.org/pandas-docs/stable/user_guide/indexing.html#returning-a-view-versus-a-copy\n",
      "  df[column][df[column] > sup] = sup\n",
      "<ipython-input-16-f726d3d4eb31>:5: SettingWithCopyWarning: \n",
      "A value is trying to be set on a copy of a slice from a DataFrame\n",
      "\n",
      "See the caveats in the documentation: https://pandas.pydata.org/pandas-docs/stable/user_guide/indexing.html#returning-a-view-versus-a-copy\n",
      "  df[column][df[column] < inf] = inf\n",
      "<ipython-input-16-f726d3d4eb31>:4: SettingWithCopyWarning: \n",
      "A value is trying to be set on a copy of a slice from a DataFrame\n",
      "\n",
      "See the caveats in the documentation: https://pandas.pydata.org/pandas-docs/stable/user_guide/indexing.html#returning-a-view-versus-a-copy\n",
      "  df[column][df[column] > sup] = sup\n",
      "<ipython-input-16-f726d3d4eb31>:5: SettingWithCopyWarning: \n",
      "A value is trying to be set on a copy of a slice from a DataFrame\n",
      "\n",
      "See the caveats in the documentation: https://pandas.pydata.org/pandas-docs/stable/user_guide/indexing.html#returning-a-view-versus-a-copy\n",
      "  df[column][df[column] < inf] = inf\n"
     ]
    }
   ],
   "source": [
    "for column in df.iloc[:, 1:]:\n",
    "    sup = 2 * np.nanpercentile(df[column], 99)\n",
    "    inf = 0.2 * np.nanpercentile(df[column], 1)\n",
    "    df[column][df[column] > sup] = sup\n",
    "    df[column][df[column] < inf] = inf"
   ]
  },
  {
   "cell_type": "code",
   "execution_count": 17,
   "metadata": {},
   "outputs": [
    {
     "data": {
      "text/html": [
       "<div>\n",
       "<style scoped>\n",
       "    .dataframe tbody tr th:only-of-type {\n",
       "        vertical-align: middle;\n",
       "    }\n",
       "\n",
       "    .dataframe tbody tr th {\n",
       "        vertical-align: top;\n",
       "    }\n",
       "\n",
       "    .dataframe thead th {\n",
       "        text-align: right;\n",
       "    }\n",
       "</style>\n",
       "<table border=\"1\" class=\"dataframe\">\n",
       "  <thead>\n",
       "    <tr style=\"text-align: right;\">\n",
       "      <th></th>\n",
       "      <th>InvType</th>\n",
       "      <th>BA</th>\n",
       "      <th>PE</th>\n",
       "      <th>IA</th>\n",
       "      <th>Age</th>\n",
       "      <th>Location_number</th>\n",
       "    </tr>\n",
       "  </thead>\n",
       "  <tbody>\n",
       "    <tr>\n",
       "      <th>count</th>\n",
       "      <td>4734.000000</td>\n",
       "      <td>4.734000e+03</td>\n",
       "      <td>4734.000000</td>\n",
       "      <td>4734.000000</td>\n",
       "      <td>4734.000000</td>\n",
       "      <td>4734.000000</td>\n",
       "    </tr>\n",
       "    <tr>\n",
       "      <th>mean</th>\n",
       "      <td>0.510351</td>\n",
       "      <td>1.104600e+06</td>\n",
       "      <td>0.481411</td>\n",
       "      <td>0.434728</td>\n",
       "      <td>43.465357</td>\n",
       "      <td>41.153147</td>\n",
       "    </tr>\n",
       "    <tr>\n",
       "      <th>std</th>\n",
       "      <td>0.499946</td>\n",
       "      <td>1.983456e+06</td>\n",
       "      <td>0.499707</td>\n",
       "      <td>0.844731</td>\n",
       "      <td>15.646703</td>\n",
       "      <td>32.326358</td>\n",
       "    </tr>\n",
       "    <tr>\n",
       "      <th>min</th>\n",
       "      <td>0.000000</td>\n",
       "      <td>0.000000e+00</td>\n",
       "      <td>0.000000</td>\n",
       "      <td>0.000000</td>\n",
       "      <td>1.000000</td>\n",
       "      <td>0.000000</td>\n",
       "    </tr>\n",
       "    <tr>\n",
       "      <th>25%</th>\n",
       "      <td>0.000000</td>\n",
       "      <td>4.961875e+04</td>\n",
       "      <td>0.000000</td>\n",
       "      <td>0.000000</td>\n",
       "      <td>33.000000</td>\n",
       "      <td>0.000000</td>\n",
       "    </tr>\n",
       "    <tr>\n",
       "      <th>50%</th>\n",
       "      <td>1.000000</td>\n",
       "      <td>3.239905e+05</td>\n",
       "      <td>0.000000</td>\n",
       "      <td>0.000000</td>\n",
       "      <td>43.000000</td>\n",
       "      <td>42.000000</td>\n",
       "    </tr>\n",
       "    <tr>\n",
       "      <th>75%</th>\n",
       "      <td>1.000000</td>\n",
       "      <td>1.289307e+06</td>\n",
       "      <td>1.000000</td>\n",
       "      <td>1.000000</td>\n",
       "      <td>55.000000</td>\n",
       "      <td>69.000000</td>\n",
       "    </tr>\n",
       "    <tr>\n",
       "      <th>max</th>\n",
       "      <td>1.000000</td>\n",
       "      <td>1.911697e+07</td>\n",
       "      <td>1.000000</td>\n",
       "      <td>8.000000</td>\n",
       "      <td>96.000000</td>\n",
       "      <td>99.000000</td>\n",
       "    </tr>\n",
       "  </tbody>\n",
       "</table>\n",
       "</div>"
      ],
      "text/plain": [
       "           InvType            BA           PE           IA          Age  \\\n",
       "count  4734.000000  4.734000e+03  4734.000000  4734.000000  4734.000000   \n",
       "mean      0.510351  1.104600e+06     0.481411     0.434728    43.465357   \n",
       "std       0.499946  1.983456e+06     0.499707     0.844731    15.646703   \n",
       "min       0.000000  0.000000e+00     0.000000     0.000000     1.000000   \n",
       "25%       0.000000  4.961875e+04     0.000000     0.000000    33.000000   \n",
       "50%       1.000000  3.239905e+05     0.000000     0.000000    43.000000   \n",
       "75%       1.000000  1.289307e+06     1.000000     1.000000    55.000000   \n",
       "max       1.000000  1.911697e+07     1.000000     8.000000    96.000000   \n",
       "\n",
       "       Location_number  \n",
       "count      4734.000000  \n",
       "mean         41.153147  \n",
       "std          32.326358  \n",
       "min           0.000000  \n",
       "25%           0.000000  \n",
       "50%          42.000000  \n",
       "75%          69.000000  \n",
       "max          99.000000  "
      ]
     },
     "execution_count": 17,
     "metadata": {},
     "output_type": "execute_result"
    }
   ],
   "source": [
    "df.describe()"
   ]
  },
  {
   "cell_type": "markdown",
   "metadata": {},
   "source": [
    "I reducted a little the standard deviation from BA variable using outliers treatment, at this moment, data is ready for modelling creation."
   ]
  },
  {
   "cell_type": "markdown",
   "metadata": {},
   "source": [
    "## Model creation\n",
    "In this section, I am going to develop different model for practice purposes, with the goal to find the best model for this dataset. In this case 0:product A and 1: product B in InvType variable.\n",
    "### x - y data split"
   ]
  },
  {
   "cell_type": "code",
   "execution_count": 18,
   "metadata": {},
   "outputs": [
    {
     "data": {
      "text/html": [
       "<div>\n",
       "<style scoped>\n",
       "    .dataframe tbody tr th:only-of-type {\n",
       "        vertical-align: middle;\n",
       "    }\n",
       "\n",
       "    .dataframe tbody tr th {\n",
       "        vertical-align: top;\n",
       "    }\n",
       "\n",
       "    .dataframe thead th {\n",
       "        text-align: right;\n",
       "    }\n",
       "</style>\n",
       "<table border=\"1\" class=\"dataframe\">\n",
       "  <thead>\n",
       "    <tr style=\"text-align: right;\">\n",
       "      <th></th>\n",
       "      <th>BA</th>\n",
       "      <th>PE</th>\n",
       "      <th>IA</th>\n",
       "      <th>Age</th>\n",
       "      <th>Location_number</th>\n",
       "    </tr>\n",
       "  </thead>\n",
       "  <tbody>\n",
       "    <tr>\n",
       "      <th>0</th>\n",
       "      <td>5946.0</td>\n",
       "      <td>0</td>\n",
       "      <td>1</td>\n",
       "      <td>45</td>\n",
       "      <td>29</td>\n",
       "    </tr>\n",
       "    <tr>\n",
       "      <th>1</th>\n",
       "      <td>348171.0</td>\n",
       "      <td>1</td>\n",
       "      <td>1</td>\n",
       "      <td>41</td>\n",
       "      <td>0</td>\n",
       "    </tr>\n",
       "    <tr>\n",
       "      <th>2</th>\n",
       "      <td>81357.0</td>\n",
       "      <td>0</td>\n",
       "      <td>0</td>\n",
       "      <td>43</td>\n",
       "      <td>0</td>\n",
       "    </tr>\n",
       "    <tr>\n",
       "      <th>3</th>\n",
       "      <td>4338487.0</td>\n",
       "      <td>1</td>\n",
       "      <td>0</td>\n",
       "      <td>36</td>\n",
       "      <td>52</td>\n",
       "    </tr>\n",
       "    <tr>\n",
       "      <th>4</th>\n",
       "      <td>4257.0</td>\n",
       "      <td>0</td>\n",
       "      <td>0</td>\n",
       "      <td>2</td>\n",
       "      <td>10</td>\n",
       "    </tr>\n",
       "  </tbody>\n",
       "</table>\n",
       "</div>"
      ],
      "text/plain": [
       "          BA  PE  IA  Age  Location_number\n",
       "0     5946.0   0   1   45               29\n",
       "1   348171.0   1   1   41                0\n",
       "2    81357.0   0   0   43                0\n",
       "3  4338487.0   1   0   36               52\n",
       "4     4257.0   0   0    2               10"
      ]
     },
     "execution_count": 18,
     "metadata": {},
     "output_type": "execute_result"
    }
   ],
   "source": [
    "y = df[\"InvType\"]\n",
    "x = df.drop(\"InvType\", axis = 1)\n",
    "x.head()"
   ]
  },
  {
   "cell_type": "markdown",
   "metadata": {},
   "source": [
    "### Rescalling x data"
   ]
  },
  {
   "cell_type": "code",
   "execution_count": 19,
   "metadata": {},
   "outputs": [
    {
     "data": {
      "text/plain": [
       "(4734, 5)"
      ]
     },
     "execution_count": 19,
     "metadata": {},
     "output_type": "execute_result"
    }
   ],
   "source": [
    "from sklearn.preprocessing import StandardScaler\n",
    "x_s = StandardScaler().fit_transform(x)\n",
    "x_s.shape"
   ]
  },
  {
   "cell_type": "markdown",
   "metadata": {},
   "source": [
    "### Train - validation - test data split"
   ]
  },
  {
   "cell_type": "code",
   "execution_count": 20,
   "metadata": {},
   "outputs": [
    {
     "name": "stdout",
     "output_type": "stream",
     "text": [
      "(3787, 5) (947, 5) (3787,) (947,)\n"
     ]
    }
   ],
   "source": [
    "from sklearn.model_selection import train_test_split\n",
    "x_train_full, x_test, y_train_full, y_test = train_test_split(x_s, y, test_size = 0.2, \n",
    "                                                              random_state = 0)\n",
    "print(x_train_full.shape, x_test.shape, y_train_full.shape, y_test.shape)"
   ]
  },
  {
   "cell_type": "code",
   "execution_count": 21,
   "metadata": {},
   "outputs": [
    {
     "name": "stdout",
     "output_type": "stream",
     "text": [
      "(3029, 5) (3029,) (758, 5) (758,) (947, 5) (947,)\n"
     ]
    }
   ],
   "source": [
    "x_train, x_valid, y_train, y_valid = train_test_split(x_train_full, y_train_full, \n",
    "                                                              test_size = 0.2, \n",
    "                                                              random_state = 0)\n",
    "print(x_train.shape, y_train.shape, x_valid.shape, y_valid.shape, \n",
    "      x_test.shape, y_test.shape)"
   ]
  },
  {
   "cell_type": "markdown",
   "metadata": {},
   "source": [
    "### First model block\n",
    "Logistic classifier, Linear discriminant (and quadratic) and KNN"
   ]
  },
  {
   "cell_type": "code",
   "execution_count": 22,
   "metadata": {},
   "outputs": [],
   "source": [
    "from sklearn.linear_model import LogisticRegression\n",
    "from sklearn.discriminant_analysis import LinearDiscriminantAnalysis, QuadraticDiscriminantAnalysis\n",
    "from sklearn.neighbors import KNeighborsClassifier\n",
    "from sklearn.model_selection import GridSearchCV\n",
    "from sklearn.metrics import accuracy_score"
   ]
  },
  {
   "cell_type": "code",
   "execution_count": 23,
   "metadata": {},
   "outputs": [
    {
     "name": "stderr",
     "output_type": "stream",
     "text": [
      "C:\\Users\\Rolando\\anaconda3\\lib\\site-packages\\sklearn\\linear_model\\_logistic.py:1353: UserWarning: 'n_jobs' > 1 does not have any effect when 'solver' is set to 'liblinear'. Got 'n_jobs' = 4.\n",
      "  warnings.warn(\"'n_jobs' > 1 does not have any effect when\"\n"
     ]
    },
    {
     "data": {
      "text/plain": [
       "0.617740232312566"
      ]
     },
     "execution_count": 23,
     "metadata": {},
     "output_type": "execute_result"
    }
   ],
   "source": [
    "#Logistic regression\n",
    "params = {\"solver\": [\"liblinear\", \"newton-cg\", \"sag\", \"saga\"]}\n",
    "clf_log = LogisticRegression(random_state = 0, n_jobs = -1)\n",
    "gscv_log = GridSearchCV(clf_log, params, n_jobs = -1, cv = 5)\n",
    "gscv_log.fit(x_train_full, y_train_full)\n",
    "best_log = gscv_log.best_estimator_\n",
    "y_pred_log = best_log.predict(x_test)\n",
    "accuracy_score(y_pred_log, y_test)"
   ]
  },
  {
   "cell_type": "code",
   "execution_count": 24,
   "metadata": {},
   "outputs": [
    {
     "data": {
      "text/plain": [
       "0.6198521647307286"
      ]
     },
     "execution_count": 24,
     "metadata": {},
     "output_type": "execute_result"
    }
   ],
   "source": [
    "#Linear Discriminant Analysis\n",
    "params = {\"solver\": [\"svd\", \"lsqr\", \"eigen\"]}\n",
    "clf_lda = LinearDiscriminantAnalysis()\n",
    "gscv_lda = GridSearchCV(clf_lda, params, n_jobs = -1, cv = 5)\n",
    "gscv_lda.fit(x_train_full, y_train_full)\n",
    "best_lda = gscv_lda.best_estimator_\n",
    "y_pred_lda = best_lda.predict(x_test)\n",
    "accuracy_score(y_pred_lda, y_test)"
   ]
  },
  {
   "cell_type": "code",
   "execution_count": 25,
   "metadata": {},
   "outputs": [
    {
     "data": {
      "text/plain": [
       "0.6198521647307286"
      ]
     },
     "execution_count": 25,
     "metadata": {},
     "output_type": "execute_result"
    }
   ],
   "source": [
    "#Quadratic Discriminant Analysis\n",
    "params = {}\n",
    "clf_qda = QuadraticDiscriminantAnalysis()\n",
    "gscv_qda = GridSearchCV(clf_qda, params, n_jobs = -1, cv = 5)\n",
    "gscv_qda.fit(x_train_full, y_train_full)\n",
    "best_qda = gscv_qda.best_estimator_\n",
    "y_pred_qda = best_lda.predict(x_test)\n",
    "accuracy_score(y_pred_qda, y_test)"
   ]
  },
  {
   "cell_type": "code",
   "execution_count": 26,
   "metadata": {},
   "outputs": [
    {
     "data": {
      "text/plain": [
       "0.6473072861668426"
      ]
     },
     "execution_count": 26,
     "metadata": {},
     "output_type": "execute_result"
    }
   ],
   "source": [
    "#KNN\n",
    "params = {\"n_neighbors\": np.arange(1, int(np.around(0.8*len(x_train_full) , 0)), 25),\n",
    "         \"weights\": [\"uniform\", \"distance\"],\n",
    "         \"algorithm\": [\"auto\", \"ball_tree\", \"kd_tree\", \"brute\"]}\n",
    "clf_knn = KNeighborsClassifier()\n",
    "gscv_knn = GridSearchCV(clf_knn, params, n_jobs = -1, cv = 5)\n",
    "gscv_knn.fit(x_train_full, y_train_full)\n",
    "best_knn = gscv_knn.best_estimator_\n",
    "y_pred_knn= best_knn.predict(x_test)\n",
    "accuracy_score(y_pred_knn, y_test)"
   ]
  },
  {
   "cell_type": "markdown",
   "metadata": {},
   "source": [
    "In this block, I got around 65% accuracy with KNN model, it is good but it is not enough."
   ]
  },
  {
   "cell_type": "markdown",
   "metadata": {},
   "source": [
    "### Second model block\n",
    "In this block, I am going to explore based ensemble models performance, bagging, random forest and boosting model gradient boosting, ADA Boost, XG boost"
   ]
  },
  {
   "cell_type": "code",
   "execution_count": 27,
   "metadata": {},
   "outputs": [],
   "source": [
    "from sklearn.ensemble import BaggingClassifier, RandomForestClassifier, GradientBoostingClassifier, AdaBoostClassifier\n",
    "import xgboost as xgb "
   ]
  },
  {
   "cell_type": "code",
   "execution_count": 28,
   "metadata": {},
   "outputs": [
    {
     "data": {
      "text/plain": [
       "0.6642027455121436"
      ]
     },
     "execution_count": 28,
     "metadata": {},
     "output_type": "execute_result"
    }
   ],
   "source": [
    "#Bagging\n",
    "params = {\"n_estimators\": np.arange(5, 100, 10)}\n",
    "clf_bag = BaggingClassifier(n_jobs = -1, random_state = 0)\n",
    "gscv_bag = GridSearchCV(clf_bag, params, n_jobs = -1, cv = 5)\n",
    "gscv_bag.fit(x_train_full, y_train_full)\n",
    "best_bag = gscv_bag.best_estimator_\n",
    "y_pred_bag= best_bag.predict(x_test)\n",
    "accuracy_score(y_pred_bag, y_test)"
   ]
  },
  {
   "cell_type": "code",
   "execution_count": 29,
   "metadata": {},
   "outputs": [
    {
     "data": {
      "text/plain": [
       "0.7011615628299894"
      ]
     },
     "execution_count": 29,
     "metadata": {},
     "output_type": "execute_result"
    }
   ],
   "source": [
    "#Random forest\n",
    "params = {\"n_estimators\": np.arange(5, 100, 10),\n",
    "         \"criterion\": [\"gini\", \"entropy\"],\n",
    "         \"max_depth\": [1, 2, 3, 5, 7, 10]}\n",
    "clf_ran = RandomForestClassifier(n_jobs = -1, random_state = 0)\n",
    "gscv_ran = GridSearchCV(clf_ran, params, n_jobs = -1, cv = 5)\n",
    "gscv_ran.fit(x_train_full, y_train_full)\n",
    "best_ran = gscv_ran.best_estimator_\n",
    "y_pred_ran= best_ran.predict(x_test)\n",
    "accuracy_score(y_pred_ran, y_test)"
   ]
  },
  {
   "cell_type": "code",
   "execution_count": 30,
   "metadata": {},
   "outputs": [
    {
     "data": {
      "text/plain": [
       "{'criterion': 'entropy', 'max_depth': 10, 'n_estimators': 75}"
      ]
     },
     "execution_count": 30,
     "metadata": {},
     "output_type": "execute_result"
    }
   ],
   "source": [
    "gscv_ran.best_params_ #This information will be used later in ADA Boost"
   ]
  },
  {
   "cell_type": "code",
   "execution_count": 31,
   "metadata": {},
   "outputs": [
    {
     "data": {
      "text/plain": [
       "0.6927138331573389"
      ]
     },
     "execution_count": 31,
     "metadata": {},
     "output_type": "execute_result"
    }
   ],
   "source": [
    "#Gradient boost\n",
    "params = {\"n_estimators\": np.arange(5, 100, 10),\n",
    "         \"max_depth\": [1, 2, 3, 5, 7, 10],\n",
    "         \"learning_rate\": [0.05, 0.01, 0.5, 0.1],\n",
    "         \"ccp_alpha\": [0.05, 0.01, 0.5, 0.1, 1]}\n",
    "clf_grad = GradientBoostingClassifier(init = RandomForestClassifier(criterion = \"entropy\",\n",
    "                                                     max_depth = 10,\n",
    "                                                     n_estimators = 75,\n",
    "                                                     n_jobs = -1,\n",
    "                                                    random_state = 0),\n",
    "                                      n_iter_no_change = 15, random_state = 0)\n",
    "gscv_grad = GridSearchCV(clf_grad, params, n_jobs = -1, cv = 5)\n",
    "gscv_grad.fit(x_train_full, y_train_full)\n",
    "best_grad = gscv_grad.best_estimator_\n",
    "y_pred_grad= best_grad.predict(x_test)\n",
    "accuracy_score(y_pred_grad, y_test)"
   ]
  },
  {
   "cell_type": "code",
   "execution_count": 32,
   "metadata": {},
   "outputs": [
    {
     "data": {
      "text/plain": [
       "0.672650475184794"
      ]
     },
     "execution_count": 32,
     "metadata": {},
     "output_type": "execute_result"
    }
   ],
   "source": [
    "#ADA boost\n",
    "params = {\"n_estimators\": np.arange(5, 100, 10),\n",
    "         \"learning_rate\": [0.001, 0.05, 0.01, 0.5, 0.1, 1, 5, 10, 50, 100]}\n",
    "clf_ada = AdaBoostClassifier(random_state = 0)\n",
    "gscv_ada = GridSearchCV(clf_ada, params, n_jobs = -1, cv = 5)\n",
    "gscv_ada.fit(x_train_full, y_train_full)\n",
    "best_ada = gscv_ada.best_estimator_\n",
    "y_pred_ada= best_ada.predict(x_test)\n",
    "accuracy_score(y_pred_ada, y_test)"
   ]
  },
  {
   "cell_type": "code",
   "execution_count": 33,
   "metadata": {},
   "outputs": [
    {
     "data": {
      "text/plain": [
       "0.6937697993664202"
      ]
     },
     "execution_count": 33,
     "metadata": {},
     "output_type": "execute_result"
    }
   ],
   "source": [
    "#ADA boost using random forest\n",
    "params = {\"n_estimators\": np.arange(5, 100, 10),\n",
    "         \"learning_rate\": [0.05, 0.01, 0.5, 0.1]}\n",
    "clf_ada2 = AdaBoostClassifier(RandomForestClassifier(criterion = \"entropy\",\n",
    "                                                     max_depth = 10,\n",
    "                                                     n_estimators = 75,\n",
    "                                                     n_jobs = -1,\n",
    "                                                    random_state = 0),\n",
    "                              random_state = 0)\n",
    "gscv_ada2 = GridSearchCV(clf_ada2, params, n_jobs = -1, cv = 5)\n",
    "gscv_ada2.fit(x_train_full, y_train_full)\n",
    "best_ada2 = gscv_ada2.best_estimator_\n",
    "y_pred_ada2= best_ada2.predict(x_test)\n",
    "accuracy_score(y_pred_ada2, y_test)"
   ]
  },
  {
   "cell_type": "code",
   "execution_count": 34,
   "metadata": {},
   "outputs": [
    {
     "name": "stdout",
     "output_type": "stream",
     "text": [
      "[23:06:35] WARNING: ..\\src\\learner.cc:1061: Starting in XGBoost 1.3.0, the default evaluation metric used with the objective 'binary:logistic' was changed from 'error' to 'logloss'. Explicitly set eval_metric if you'd like to restore the old behavior.\n"
     ]
    },
    {
     "name": "stderr",
     "output_type": "stream",
     "text": [
      "C:\\Users\\Rolando\\anaconda3\\lib\\site-packages\\xgboost\\sklearn.py:888: UserWarning: The use of label encoder in XGBClassifier is deprecated and will be removed in a future release. To remove this warning, do the following: 1) Pass option use_label_encoder=False when constructing XGBClassifier object; and 2) Encode your labels (y) as integers starting with 0, i.e. 0, 1, 2, ..., [num_class - 1].\n",
      "  warnings.warn(label_encoder_deprecation_msg, UserWarning)\n"
     ]
    },
    {
     "data": {
      "text/plain": [
       "0.6927138331573389"
      ]
     },
     "execution_count": 34,
     "metadata": {},
     "output_type": "execute_result"
    }
   ],
   "source": [
    "#XGBoost\n",
    "params = {\"n_estimators\": np.arange(5, 100, 10),\n",
    "         \"learning_rate\": [0.05, 0.01, 0.5, 0.1],\n",
    "         \"max_depth\": [1, 2, 3, 5, 7, 10]}\n",
    "clf_xgb = xgb.XGBClassifier(n_jobs = -1)\n",
    "gscv_xgb = GridSearchCV(clf_xgb, params, n_jobs = -1, cv = 5)\n",
    "gscv_xgb.fit(x_train_full, y_train_full)\n",
    "best_xgb = gscv_xgb.best_estimator_\n",
    "y_pred_xgb = best_xgb.predict(x_test)\n",
    "accuracy_score(y_pred_xgb, y_test)"
   ]
  },
  {
   "cell_type": "markdown",
   "metadata": {},
   "source": [
    "### Third model block\n",
    "In this block, I am going to use support vector machine"
   ]
  },
  {
   "cell_type": "code",
   "execution_count": 35,
   "metadata": {},
   "outputs": [],
   "source": [
    "from sklearn.svm import SVC"
   ]
  },
  {
   "cell_type": "code",
   "execution_count": 37,
   "metadata": {},
   "outputs": [
    {
     "data": {
      "text/plain": [
       "0.6504751847940866"
      ]
     },
     "execution_count": 37,
     "metadata": {},
     "output_type": "execute_result"
    }
   ],
   "source": [
    "#Support vector machine\n",
    "params = {\"C\": [0.01, 0.05, 0.1, 0.5],\n",
    "         \"kernel\": [\"linear\", \"poly\", \"rbf\", \"sigmoid\"],\n",
    "         \"degree\": [1, 2, 3, 4, 5], \n",
    "         \"gamma\": [0.01, 0.05, 0.1, 0.5]}\n",
    "clf_svc = SVC(random_state = 0)\n",
    "gscv_svc = GridSearchCV(clf_svc, params, n_jobs = -1, cv = 5)\n",
    "gscv_svc.fit(x_train_full, y_train_full)\n",
    "best_svc = gscv_svc.best_estimator_\n",
    "y_pred_svc = best_svc.predict(x_test)\n",
    "accuracy_score(y_pred_svc, y_test)"
   ]
  },
  {
   "cell_type": "markdown",
   "metadata": {},
   "source": [
    "### Saving these models"
   ]
  },
  {
   "cell_type": "code",
   "execution_count": 40,
   "metadata": {},
   "outputs": [
    {
     "name": "stdout",
     "output_type": "stream",
     "text": [
      "Models are saved\n"
     ]
    }
   ],
   "source": [
    "import joblib\n",
    "models = [\"log_investing\", \"lda_investing\", \"qda_investing\", \"knn_investing\",\n",
    "       \"bag_investing\", \"randfor_investing\", \"grad_investing\", \"ada_investing\", \"ada2_investing\",\n",
    "       \"xgb_investing\", \"svc_investing\"]\n",
    "variables = {\"log_investing\": best_log, \"lda_investing\": best_lda, \"qda_investing\": best_qda, \"knn_investing\": best_knn,\n",
    "       \"bag_investing\": best_bag, \"randfor_investing\": best_ran, \"grad_investing\": best_grad, \"ada_investing\": best_ada,\n",
    "       \"xgb_investing\": best_xgb, \"svc_investing\": best_svc, \"ada2_investing\": best_ada2}\n",
    "for var in models:\n",
    "    filename = \"./Machine_learning_models/\" + var + \".sav\"\n",
    "    joblib.dump(variables[var], filename)\n",
    "print(\"Models are saved\")"
   ]
  },
  {
   "cell_type": "code",
   "execution_count": null,
   "metadata": {},
   "outputs": [],
   "source": []
  },
  {
   "cell_type": "markdown",
   "metadata": {},
   "source": [
    "### Artificial neural networks block\n",
    "#### Sequential"
   ]
  },
  {
   "cell_type": "code",
   "execution_count": null,
   "metadata": {},
   "outputs": [],
   "source": [
    "import tensorflow as tf\n",
    "import tensorflow.keras as keras\n",
    "from tensorflow.keras.layers import Dense, Input, concatenate, Dropout\n",
    "from tensorflow.keras.models import Model, Sequential\n",
    "np.random.seed(0)\n",
    "tf.random.set_seed(0)"
   ]
  },
  {
   "cell_type": "code",
   "execution_count": null,
   "metadata": {},
   "outputs": [],
   "source": [
    "first_model = Sequential([\n",
    "    Dense(5**4, activation = \"relu\", input_shape = x_train_full.shape[1:]),\n",
    "    Dense(5**4, activation = \"relu\"),\n",
    "    Dense(5**2, activation = \"relu\"),\n",
    "    Dense(1, activation = \"sigmoid\")\n",
    "])\n",
    "first_model.compile(loss = \"binary_crossentropy\",\n",
    "                   optimizer = keras.optimizers.Adam(lr = 1e-3),\n",
    "                   metrics = [\"acc\"])\n",
    "first_callbacks = [keras.callbacks.EarlyStopping(patience = 25,\n",
    "                                                restore_best_weights = True),\n",
    "                  keras.callbacks.ModelCheckpoint(\"./Deep_learning_models/best_first_model.h5\",\n",
    "                                                 save_best_only = True)]\n",
    "history = first_model.fit(x_train, y_train, epochs = 1000, batch_size = 16, validation_data = [x_valid, y_valid],\n",
    "                         callbacks = first_callbacks)"
   ]
  },
  {
   "cell_type": "code",
   "execution_count": null,
   "metadata": {},
   "outputs": [],
   "source": [
    "pd.DataFrame(history.history).plot(figsize = (10, 7))\n",
    "plt.grid(True)\n",
    "plt.gca().set_ylim(0, 1)\n",
    "plt.show()"
   ]
  },
  {
   "cell_type": "code",
   "execution_count": null,
   "metadata": {},
   "outputs": [],
   "source": [
    "best_first_model = keras.models.load_model(\"./Deep_learning_models/best_first_model.h5\")\n",
    "score = best_first_model.evaluate(x_test, y_test)"
   ]
  },
  {
   "cell_type": "code",
   "execution_count": null,
   "metadata": {},
   "outputs": [],
   "source": [
    "best_first_model.summary()"
   ]
  },
  {
   "cell_type": "code",
   "execution_count": null,
   "metadata": {},
   "outputs": [],
   "source": [
    "keras.utils.plot_model(best_first_model)"
   ]
  },
  {
   "cell_type": "code",
   "execution_count": null,
   "metadata": {},
   "outputs": [],
   "source": [
    "del first_model\n",
    "keras.backend.clear_session()"
   ]
  },
  {
   "cell_type": "markdown",
   "metadata": {},
   "source": [
    "#### Functional"
   ]
  },
  {
   "cell_type": "code",
   "execution_count": null,
   "metadata": {},
   "outputs": [],
   "source": [
    "input_ = Input(shape = x_train.shape[1:])\n",
    "\n",
    "hidden1 = Dense(5**4, activation = \"relu\")(input_)\n",
    "hidden2 = Dense(5**4, activation = \"relu\")(hidden1)\n",
    "\n",
    "hidden3 = Dense(5**6, activation = \"relu\")(input_)\n",
    "hidden4 = Dense(5**6, activation = \"relu\")(hidden3)\n",
    "\n",
    "hidden5 = Dense(5**8, activation = \"relu\")(input_)\n",
    "hidden6 = Dense(5**8, activation = \"relu\")(hidden5)\n",
    "\n",
    "hidden7 = Dense(5**10, activation = \"relu\")(input_)\n",
    "hidden8 = Dense(5**10, activation = \"relu\")(hidden7)\n",
    "\n",
    "concat = concatenate([hidden2, hidden4, hidden6, hidden8])\n",
    "dropout = Dropout(0.4)(concat)\n",
    "\n",
    "hidden = Dense(5**4, activation = \"relu\")(dropout)\n",
    "output_ = Dense(1, activation = \"sigmoid\")(hidden)\n",
    "second_model = Model(inputs = [input_], outputs = [output_])\n",
    "\n",
    "second_model.compile(loss = \"binary_crossentropy\",\n",
    "                   optimizer = keras.optimizers.Adam(lr = 1e-3),\n",
    "                   metrics = [\"acc\"])\n",
    "second_callbacks = [keras.callbacks.EarlyStopping(patience = 25,\n",
    "                                                restore_best_weights = True),\n",
    "                  keras.callbacks.ModelCheckpoint(\"./Deep_learning_models/best_second_model.h5\",\n",
    "                                                 save_best_only = True)]\n",
    "history = second_model.fit(x_train, y_train, epochs = 1000, batch_size = 16, validation_data = [x_valid, y_valid],\n",
    "                         callbacks = second_callbacks)"
   ]
  },
  {
   "cell_type": "code",
   "execution_count": null,
   "metadata": {},
   "outputs": [],
   "source": [
    "pd.DataFrame(history.history).plot(figsize = (10, 7))\n",
    "plt.grid(True)\n",
    "plt.gca().set_ylim(0, 1)\n",
    "plt.show()"
   ]
  },
  {
   "cell_type": "code",
   "execution_count": null,
   "metadata": {},
   "outputs": [],
   "source": [
    "best_second_model = keras.models.load_model(\"./Deep_learning_models/best_second_model.h5\")\n",
    "score = best_second_model.evaluate(x_test, y_test)"
   ]
  },
  {
   "cell_type": "code",
   "execution_count": null,
   "metadata": {},
   "outputs": [],
   "source": [
    "best_second_model.summary()"
   ]
  },
  {
   "cell_type": "code",
   "execution_count": null,
   "metadata": {},
   "outputs": [],
   "source": [
    "keras.utils.plot_model(best_second_model)"
   ]
  },
  {
   "cell_type": "code",
   "execution_count": null,
   "metadata": {},
   "outputs": [],
   "source": [
    "del second_model\n",
    "keras.backend.clear_session()"
   ]
  }
 ],
 "metadata": {
  "kernelspec": {
   "display_name": "Python 3",
   "language": "python",
   "name": "python3"
  },
  "language_info": {
   "codemirror_mode": {
    "name": "ipython",
    "version": 3
   },
   "file_extension": ".py",
   "mimetype": "text/x-python",
   "name": "python",
   "nbconvert_exporter": "python",
   "pygments_lexer": "ipython3",
   "version": "3.8.5"
  }
 },
 "nbformat": 4,
 "nbformat_minor": 4
}
